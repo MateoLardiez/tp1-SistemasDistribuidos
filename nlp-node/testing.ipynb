{
 "cells": [
  {
   "cell_type": "code",
   "execution_count": 1,
   "id": "d4d7c5ac",
   "metadata": {},
   "outputs": [
    {
     "name": "stdout",
     "output_type": "stream",
     "text": [
      "/home/mateo/.pyenv/versions/3.12.8/bin/python\n"
     ]
    }
   ],
   "source": [
    "import sys\n",
    "print(sys.executable)"
   ]
  },
  {
   "cell_type": "code",
   "execution_count": 6,
   "id": "ece8ef6a",
   "metadata": {},
   "outputs": [],
   "source": [
    "import numpy as np # linear algebra\n",
    "import pandas as pd # data processing, CSV file I/O (e.g. pd.read_csv)\n",
    "import matplotlib.pyplot as plt\n",
    "import os\n",
    "import langid\n",
    "import time\n",
    "import ast\n",
    "import timeit\n",
    "\n",
    "#!pip install transformers torch --break-system-packages\n",
    "from transformers import pipeline\n",
    "\n",
    "pd.set_option('display.max_columns', None)\n",
    "pd.set_option('display.max_colwidth', 100)"
   ]
  },
  {
   "cell_type": "code",
   "execution_count": 14,
   "id": "ca00f7b5",
   "metadata": {},
   "outputs": [],
   "source": [
    "movies_sample_path = os.path.abspath(\"../.data/movies_sample.csv\")\n",
    "raitings_path = os.path.abspath(\"../.data/ratings_sample.csv\")\n",
    "credits_path = os.path.abspath(\"../.data/credits_sample.csv\")\n",
    "movies_df = pd.read_csv(movies_sample_path, low_memory=False)\n",
    "ratings_df = pd.read_csv(raitings_path)\n",
    "credits_df = pd.read_csv(credits_path)"
   ]
  },
  {
   "cell_type": "code",
   "execution_count": 15,
   "id": "e798d62e",
   "metadata": {},
   "outputs": [
    {
     "data": {
      "text/html": [
       "<div>\n",
       "<style scoped>\n",
       "    .dataframe tbody tr th:only-of-type {\n",
       "        vertical-align: middle;\n",
       "    }\n",
       "\n",
       "    .dataframe tbody tr th {\n",
       "        vertical-align: top;\n",
       "    }\n",
       "\n",
       "    .dataframe thead th {\n",
       "        text-align: right;\n",
       "    }\n",
       "</style>\n",
       "<table border=\"1\" class=\"dataframe\">\n",
       "  <thead>\n",
       "    <tr style=\"text-align: right;\">\n",
       "      <th></th>\n",
       "      <th>id</th>\n",
       "      <th>title</th>\n",
       "      <th>genres</th>\n",
       "      <th>release_date</th>\n",
       "      <th>overview</th>\n",
       "      <th>production_countries</th>\n",
       "      <th>spoken_languages</th>\n",
       "      <th>budget</th>\n",
       "      <th>revenue</th>\n",
       "    </tr>\n",
       "  </thead>\n",
       "  <tbody>\n",
       "    <tr>\n",
       "      <th>0</th>\n",
       "      <td>24621</td>\n",
       "      <td>Chasing Papi</td>\n",
       "      <td>['Comedy', 'Romance']</td>\n",
       "      <td>2003-04-16</td>\n",
       "      <td>Playboy Thomas Fuentes has so far been able to skate by in life on good looks and charm alone. B...</td>\n",
       "      <td>['United States of America']</td>\n",
       "      <td>['English']</td>\n",
       "      <td>0</td>\n",
       "      <td>6126237.0</td>\n",
       "    </tr>\n",
       "    <tr>\n",
       "      <th>1</th>\n",
       "      <td>48118</td>\n",
       "      <td>The Cold Light of Day</td>\n",
       "      <td>['Drama', 'Thriller']</td>\n",
       "      <td>1996-08-20</td>\n",
       "      <td>A troubled detective befriends a single woman and her daughter with the intention of using them ...</td>\n",
       "      <td>['Germany', 'Netherlands', 'United Kingdom']</td>\n",
       "      <td>['English']</td>\n",
       "      <td>0</td>\n",
       "      <td>0.0</td>\n",
       "    </tr>\n",
       "    <tr>\n",
       "      <th>2</th>\n",
       "      <td>9503</td>\n",
       "      <td>Pope Joan</td>\n",
       "      <td>['Drama']</td>\n",
       "      <td>2009-10-22</td>\n",
       "      <td>A 9th century woman of English extraction born in the German city of Ingelheim disguises herself...</td>\n",
       "      <td>['Spain', 'Germany', 'United Kingdom', 'Italy']</td>\n",
       "      <td>['English', 'Latin']</td>\n",
       "      <td>0</td>\n",
       "      <td>27412220.0</td>\n",
       "    </tr>\n",
       "    <tr>\n",
       "      <th>3</th>\n",
       "      <td>436932</td>\n",
       "      <td>Jawbone</td>\n",
       "      <td>['Action', 'Drama']</td>\n",
       "      <td>2017-05-12</td>\n",
       "      <td>A former youth boxing champion, Jimmy McCabe is a man in search of hope but looking in all the w...</td>\n",
       "      <td>['United Kingdom']</td>\n",
       "      <td>['English']</td>\n",
       "      <td>0</td>\n",
       "      <td>0.0</td>\n",
       "    </tr>\n",
       "    <tr>\n",
       "      <th>4</th>\n",
       "      <td>125531</td>\n",
       "      <td>Pripyat</td>\n",
       "      <td>['Documentary']</td>\n",
       "      <td>1999-09-11</td>\n",
       "      <td>The documentary covers the stories of the people that choose to work and live in Pripyat. They t...</td>\n",
       "      <td>['Austria']</td>\n",
       "      <td>['Pусский']</td>\n",
       "      <td>0</td>\n",
       "      <td>0.0</td>\n",
       "    </tr>\n",
       "  </tbody>\n",
       "</table>\n",
       "</div>"
      ],
      "text/plain": [
       "       id                  title                 genres release_date  \\\n",
       "0   24621           Chasing Papi  ['Comedy', 'Romance']   2003-04-16   \n",
       "1   48118  The Cold Light of Day  ['Drama', 'Thriller']   1996-08-20   \n",
       "2    9503              Pope Joan              ['Drama']   2009-10-22   \n",
       "3  436932                Jawbone    ['Action', 'Drama']   2017-05-12   \n",
       "4  125531                Pripyat        ['Documentary']   1999-09-11   \n",
       "\n",
       "                                                                                              overview  \\\n",
       "0  Playboy Thomas Fuentes has so far been able to skate by in life on good looks and charm alone. B...   \n",
       "1  A troubled detective befriends a single woman and her daughter with the intention of using them ...   \n",
       "2  A 9th century woman of English extraction born in the German city of Ingelheim disguises herself...   \n",
       "3  A former youth boxing champion, Jimmy McCabe is a man in search of hope but looking in all the w...   \n",
       "4  The documentary covers the stories of the people that choose to work and live in Pripyat. They t...   \n",
       "\n",
       "                              production_countries      spoken_languages  \\\n",
       "0                     ['United States of America']           ['English']   \n",
       "1     ['Germany', 'Netherlands', 'United Kingdom']           ['English']   \n",
       "2  ['Spain', 'Germany', 'United Kingdom', 'Italy']  ['English', 'Latin']   \n",
       "3                               ['United Kingdom']           ['English']   \n",
       "4                                      ['Austria']           ['Pусский']   \n",
       "\n",
       "   budget     revenue  \n",
       "0       0   6126237.0  \n",
       "1       0         0.0  \n",
       "2       0  27412220.0  \n",
       "3       0         0.0  \n",
       "4       0         0.0  "
      ]
     },
     "execution_count": 15,
     "metadata": {},
     "output_type": "execute_result"
    }
   ],
   "source": [
    "movies_df.head()"
   ]
  },
  {
   "cell_type": "code",
   "execution_count": 17,
   "id": "57518a65",
   "metadata": {},
   "outputs": [
    {
     "data": {
      "text/plain": [
       "id                        int64\n",
       "title                    object\n",
       "genres                   object\n",
       "release_date             object\n",
       "overview                 object\n",
       "production_countries     object\n",
       "spoken_languages         object\n",
       "budget                    int64\n",
       "revenue                 float64\n",
       "dtype: object"
      ]
     },
     "execution_count": 17,
     "metadata": {},
     "output_type": "execute_result"
    }
   ],
   "source": [
    "movies_df.dtypes"
   ]
  },
  {
   "cell_type": "markdown",
   "id": "9ed952cc",
   "metadata": {},
   "source": [
    "## Ejemplo resolucion Query1: Peliculas y sus géneros de los años 00' con producción Argentina y Española"
   ]
  }
 ],
 "metadata": {
  "kernelspec": {
   "display_name": "Python (Sistema)",
   "language": "python",
   "name": "python-sistema"
  },
  "language_info": {
   "codemirror_mode": {
    "name": "ipython",
    "version": 3
   },
   "file_extension": ".py",
   "mimetype": "text/x-python",
   "name": "python",
   "nbconvert_exporter": "python",
   "pygments_lexer": "ipython3",
   "version": "3.12.3"
  }
 },
 "nbformat": 4,
 "nbformat_minor": 5
}
