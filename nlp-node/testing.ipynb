{
 "cells": [
  {
   "cell_type": "code",
   "execution_count": 4,
   "id": "ece8ef6a",
   "metadata": {},
   "outputs": [],
   "source": [
    "import numpy as np # linear algebra\n",
    "import pandas as pd # data processing, CSV file I/O (e.g. pd.read_csv)\n",
    "import matplotlib.pyplot as plt\n",
    "import os\n",
    "import langid\n",
    "import time\n",
    "import ast\n",
    "import timeit\n",
    "\n",
    "#!pip install transformers torch --break-system-packages\n",
    "from transformers import pipeline\n",
    "\n",
    "pd.set_option('display.max_columns', None)\n",
    "pd.set_option('display.max_colwidth', 100)"
   ]
  },
  {
   "cell_type": "code",
   "execution_count": 5,
   "id": "ca00f7b5",
   "metadata": {},
   "outputs": [],
   "source": [
    "movies_sample_path = os.path.abspath(\"../.data/movies_cleaned.csv\")\n",
    "raitings_path = os.path.abspath(\"../.data/ratings_cleaned.csv\")\n",
    "credits_path = os.path.abspath(\"../.data/credits_cleaned.csv\")\n",
    "movies_df = pd.read_csv(movies_sample_path, low_memory=False)\n",
    "ratings_df = pd.read_csv(raitings_path)\n",
    "credits_df = pd.read_csv(credits_path)"
   ]
  },
  {
   "cell_type": "code",
   "execution_count": 6,
   "id": "44d6f95b",
   "metadata": {},
   "outputs": [],
   "source": [
    "#transforming to datetime type\n",
    "\n",
    "movies_df['release_date'] = pd.to_datetime(movies_df['release_date'])\n",
    "ratings_df['timestamp'] = pd.to_datetime(ratings_df['timestamp'])"
   ]
  },
  {
   "cell_type": "code",
   "execution_count": 7,
   "id": "6765b1b1",
   "metadata": {},
   "outputs": [
    {
     "data": {
      "text/plain": [
       "44405"
      ]
     },
     "execution_count": 7,
     "metadata": {},
     "output_type": "execute_result"
    }
   ],
   "source": [
    "movies_df[\"id\"].nunique()"
   ]
  },
  {
   "cell_type": "code",
   "execution_count": 8,
   "id": "e798d62e",
   "metadata": {},
   "outputs": [
    {
     "data": {
      "text/html": [
       "<div>\n",
       "<style scoped>\n",
       "    .dataframe tbody tr th:only-of-type {\n",
       "        vertical-align: middle;\n",
       "    }\n",
       "\n",
       "    .dataframe tbody tr th {\n",
       "        vertical-align: top;\n",
       "    }\n",
       "\n",
       "    .dataframe thead th {\n",
       "        text-align: right;\n",
       "    }\n",
       "</style>\n",
       "<table border=\"1\" class=\"dataframe\">\n",
       "  <thead>\n",
       "    <tr style=\"text-align: right;\">\n",
       "      <th></th>\n",
       "      <th>id</th>\n",
       "      <th>title</th>\n",
       "      <th>genres</th>\n",
       "      <th>release_date</th>\n",
       "      <th>overview</th>\n",
       "      <th>production_countries</th>\n",
       "      <th>spoken_languages</th>\n",
       "      <th>budget</th>\n",
       "      <th>revenue</th>\n",
       "    </tr>\n",
       "  </thead>\n",
       "  <tbody>\n",
       "    <tr>\n",
       "      <th>0</th>\n",
       "      <td>862</td>\n",
       "      <td>Toy Story</td>\n",
       "      <td>['Animation', 'Comedy', 'Family']</td>\n",
       "      <td>1995-10-30</td>\n",
       "      <td>Led by Woody, Andy's toys live happily in his room until Andy's birthday brings Buzz Lightyear o...</td>\n",
       "      <td>['United States of America']</td>\n",
       "      <td>['English']</td>\n",
       "      <td>30000000</td>\n",
       "      <td>373554033.0</td>\n",
       "    </tr>\n",
       "    <tr>\n",
       "      <th>1</th>\n",
       "      <td>8844</td>\n",
       "      <td>Jumanji</td>\n",
       "      <td>['Adventure', 'Fantasy', 'Family']</td>\n",
       "      <td>1995-12-15</td>\n",
       "      <td>When siblings Judy and Peter discover an enchanted board game that opens the door to a magical w...</td>\n",
       "      <td>['United States of America']</td>\n",
       "      <td>['English', 'Français']</td>\n",
       "      <td>65000000</td>\n",
       "      <td>262797249.0</td>\n",
       "    </tr>\n",
       "    <tr>\n",
       "      <th>2</th>\n",
       "      <td>15602</td>\n",
       "      <td>Grumpier Old Men</td>\n",
       "      <td>['Romance', 'Comedy']</td>\n",
       "      <td>1995-12-22</td>\n",
       "      <td>A family wedding reignites the ancient feud between next-door neighbors and fishing buddies John...</td>\n",
       "      <td>['United States of America']</td>\n",
       "      <td>['English']</td>\n",
       "      <td>0</td>\n",
       "      <td>0.0</td>\n",
       "    </tr>\n",
       "    <tr>\n",
       "      <th>3</th>\n",
       "      <td>31357</td>\n",
       "      <td>Waiting to Exhale</td>\n",
       "      <td>['Comedy', 'Drama', 'Romance']</td>\n",
       "      <td>1995-12-22</td>\n",
       "      <td>Cheated on, mistreated and stepped on, the women are holding their breath, waiting for the elusi...</td>\n",
       "      <td>['United States of America']</td>\n",
       "      <td>['English']</td>\n",
       "      <td>16000000</td>\n",
       "      <td>81452156.0</td>\n",
       "    </tr>\n",
       "    <tr>\n",
       "      <th>4</th>\n",
       "      <td>11862</td>\n",
       "      <td>Father of the Bride Part II</td>\n",
       "      <td>['Comedy']</td>\n",
       "      <td>1995-02-10</td>\n",
       "      <td>Just when George Banks has recovered from his daughter's wedding, he receives the news that she'...</td>\n",
       "      <td>['United States of America']</td>\n",
       "      <td>['English']</td>\n",
       "      <td>0</td>\n",
       "      <td>76578911.0</td>\n",
       "    </tr>\n",
       "  </tbody>\n",
       "</table>\n",
       "</div>"
      ],
      "text/plain": [
       "      id                        title                              genres  \\\n",
       "0    862                    Toy Story   ['Animation', 'Comedy', 'Family']   \n",
       "1   8844                      Jumanji  ['Adventure', 'Fantasy', 'Family']   \n",
       "2  15602             Grumpier Old Men               ['Romance', 'Comedy']   \n",
       "3  31357            Waiting to Exhale      ['Comedy', 'Drama', 'Romance']   \n",
       "4  11862  Father of the Bride Part II                          ['Comedy']   \n",
       "\n",
       "  release_date  \\\n",
       "0   1995-10-30   \n",
       "1   1995-12-15   \n",
       "2   1995-12-22   \n",
       "3   1995-12-22   \n",
       "4   1995-02-10   \n",
       "\n",
       "                                                                                              overview  \\\n",
       "0  Led by Woody, Andy's toys live happily in his room until Andy's birthday brings Buzz Lightyear o...   \n",
       "1  When siblings Judy and Peter discover an enchanted board game that opens the door to a magical w...   \n",
       "2  A family wedding reignites the ancient feud between next-door neighbors and fishing buddies John...   \n",
       "3  Cheated on, mistreated and stepped on, the women are holding their breath, waiting for the elusi...   \n",
       "4  Just when George Banks has recovered from his daughter's wedding, he receives the news that she'...   \n",
       "\n",
       "           production_countries         spoken_languages    budget  \\\n",
       "0  ['United States of America']              ['English']  30000000   \n",
       "1  ['United States of America']  ['English', 'Français']  65000000   \n",
       "2  ['United States of America']              ['English']         0   \n",
       "3  ['United States of America']              ['English']  16000000   \n",
       "4  ['United States of America']              ['English']         0   \n",
       "\n",
       "       revenue  \n",
       "0  373554033.0  \n",
       "1  262797249.0  \n",
       "2          0.0  \n",
       "3   81452156.0  \n",
       "4   76578911.0  "
      ]
     },
     "execution_count": 8,
     "metadata": {},
     "output_type": "execute_result"
    }
   ],
   "source": [
    "movies_df.head()"
   ]
  },
  {
   "cell_type": "code",
   "execution_count": 9,
   "id": "57518a65",
   "metadata": {},
   "outputs": [
    {
     "data": {
      "text/plain": [
       "id                               int64\n",
       "title                           object\n",
       "genres                          object\n",
       "release_date            datetime64[ns]\n",
       "overview                        object\n",
       "production_countries            object\n",
       "spoken_languages                object\n",
       "budget                           int64\n",
       "revenue                        float64\n",
       "dtype: object"
      ]
     },
     "execution_count": 9,
     "metadata": {},
     "output_type": "execute_result"
    }
   ],
   "source": [
    "movies_df.dtypes"
   ]
  },
  {
   "cell_type": "code",
   "execution_count": 10,
   "id": "b6bb4e2b",
   "metadata": {},
   "outputs": [
    {
     "data": {
      "text/plain": [
       "movieId               int64\n",
       "rating              float64\n",
       "timestamp    datetime64[ns]\n",
       "dtype: object"
      ]
     },
     "execution_count": 10,
     "metadata": {},
     "output_type": "execute_result"
    }
   ],
   "source": [
    "ratings_df.dtypes"
   ]
  },
  {
   "cell_type": "code",
   "execution_count": 11,
   "id": "62c9df56",
   "metadata": {},
   "outputs": [
    {
     "data": {
      "text/html": [
       "<div>\n",
       "<style scoped>\n",
       "    .dataframe tbody tr th:only-of-type {\n",
       "        vertical-align: middle;\n",
       "    }\n",
       "\n",
       "    .dataframe tbody tr th {\n",
       "        vertical-align: top;\n",
       "    }\n",
       "\n",
       "    .dataframe thead th {\n",
       "        text-align: right;\n",
       "    }\n",
       "</style>\n",
       "<table border=\"1\" class=\"dataframe\">\n",
       "  <thead>\n",
       "    <tr style=\"text-align: right;\">\n",
       "      <th></th>\n",
       "      <th>movieId</th>\n",
       "      <th>rating</th>\n",
       "      <th>timestamp</th>\n",
       "    </tr>\n",
       "  </thead>\n",
       "  <tbody>\n",
       "    <tr>\n",
       "      <th>0</th>\n",
       "      <td>110</td>\n",
       "      <td>1.0</td>\n",
       "      <td>2015-03-09 22:52:09</td>\n",
       "    </tr>\n",
       "    <tr>\n",
       "      <th>1</th>\n",
       "      <td>147</td>\n",
       "      <td>4.5</td>\n",
       "      <td>2015-03-09 23:07:15</td>\n",
       "    </tr>\n",
       "    <tr>\n",
       "      <th>2</th>\n",
       "      <td>858</td>\n",
       "      <td>5.0</td>\n",
       "      <td>2015-03-09 22:52:03</td>\n",
       "    </tr>\n",
       "    <tr>\n",
       "      <th>3</th>\n",
       "      <td>1221</td>\n",
       "      <td>5.0</td>\n",
       "      <td>2015-03-09 22:52:26</td>\n",
       "    </tr>\n",
       "    <tr>\n",
       "      <th>4</th>\n",
       "      <td>1246</td>\n",
       "      <td>5.0</td>\n",
       "      <td>2015-03-09 22:52:36</td>\n",
       "    </tr>\n",
       "  </tbody>\n",
       "</table>\n",
       "</div>"
      ],
      "text/plain": [
       "   movieId  rating           timestamp\n",
       "0      110     1.0 2015-03-09 22:52:09\n",
       "1      147     4.5 2015-03-09 23:07:15\n",
       "2      858     5.0 2015-03-09 22:52:03\n",
       "3     1221     5.0 2015-03-09 22:52:26\n",
       "4     1246     5.0 2015-03-09 22:52:36"
      ]
     },
     "execution_count": 11,
     "metadata": {},
     "output_type": "execute_result"
    }
   ],
   "source": [
    "ratings_df.head()"
   ]
  },
  {
   "cell_type": "code",
   "execution_count": 12,
   "id": "0b42480d",
   "metadata": {},
   "outputs": [
    {
     "data": {
      "text/plain": [
       "id       int64\n",
       "cast    object\n",
       "dtype: object"
      ]
     },
     "execution_count": 12,
     "metadata": {},
     "output_type": "execute_result"
    }
   ],
   "source": [
    "credits_df.dtypes"
   ]
  },
  {
   "cell_type": "code",
   "execution_count": 13,
   "id": "4af42aeb",
   "metadata": {},
   "outputs": [
    {
     "data": {
      "text/html": [
       "<div>\n",
       "<style scoped>\n",
       "    .dataframe tbody tr th:only-of-type {\n",
       "        vertical-align: middle;\n",
       "    }\n",
       "\n",
       "    .dataframe tbody tr th {\n",
       "        vertical-align: top;\n",
       "    }\n",
       "\n",
       "    .dataframe thead th {\n",
       "        text-align: right;\n",
       "    }\n",
       "</style>\n",
       "<table border=\"1\" class=\"dataframe\">\n",
       "  <thead>\n",
       "    <tr style=\"text-align: right;\">\n",
       "      <th></th>\n",
       "      <th>id</th>\n",
       "      <th>cast</th>\n",
       "    </tr>\n",
       "  </thead>\n",
       "  <tbody>\n",
       "    <tr>\n",
       "      <th>0</th>\n",
       "      <td>862</td>\n",
       "      <td>['Tom Hanks', 'Tim Allen', 'Don Rickles', 'Jim Varney', 'Wallace Shawn', 'John Ratzenberger', 'A...</td>\n",
       "    </tr>\n",
       "    <tr>\n",
       "      <th>1</th>\n",
       "      <td>8844</td>\n",
       "      <td>['Robin Williams', 'Jonathan Hyde', 'Kirsten Dunst', 'Bradley Pierce', 'Bonnie Hunt', 'Bebe Neuw...</td>\n",
       "    </tr>\n",
       "    <tr>\n",
       "      <th>2</th>\n",
       "      <td>15602</td>\n",
       "      <td>['Walter Matthau', 'Jack Lemmon', 'Ann-Margret', 'Sophia Loren', 'Daryl Hannah', 'Burgess Meredi...</td>\n",
       "    </tr>\n",
       "    <tr>\n",
       "      <th>3</th>\n",
       "      <td>31357</td>\n",
       "      <td>['Whitney Houston', 'Angela Bassett', 'Loretta Devine', 'Lela Rochon', 'Gregory Hines', 'Dennis ...</td>\n",
       "    </tr>\n",
       "    <tr>\n",
       "      <th>4</th>\n",
       "      <td>11862</td>\n",
       "      <td>['Steve Martin', 'Diane Keaton', 'Martin Short', 'Kimberly Williams-Paisley', 'George Newbern', ...</td>\n",
       "    </tr>\n",
       "  </tbody>\n",
       "</table>\n",
       "</div>"
      ],
      "text/plain": [
       "      id  \\\n",
       "0    862   \n",
       "1   8844   \n",
       "2  15602   \n",
       "3  31357   \n",
       "4  11862   \n",
       "\n",
       "                                                                                                  cast  \n",
       "0  ['Tom Hanks', 'Tim Allen', 'Don Rickles', 'Jim Varney', 'Wallace Shawn', 'John Ratzenberger', 'A...  \n",
       "1  ['Robin Williams', 'Jonathan Hyde', 'Kirsten Dunst', 'Bradley Pierce', 'Bonnie Hunt', 'Bebe Neuw...  \n",
       "2  ['Walter Matthau', 'Jack Lemmon', 'Ann-Margret', 'Sophia Loren', 'Daryl Hannah', 'Burgess Meredi...  \n",
       "3  ['Whitney Houston', 'Angela Bassett', 'Loretta Devine', 'Lela Rochon', 'Gregory Hines', 'Dennis ...  \n",
       "4  ['Steve Martin', 'Diane Keaton', 'Martin Short', 'Kimberly Williams-Paisley', 'George Newbern', ...  "
      ]
     },
     "execution_count": 13,
     "metadata": {},
     "output_type": "execute_result"
    }
   ],
   "source": [
    "credits_df.head()"
   ]
  },
  {
   "cell_type": "markdown",
   "id": "26620664",
   "metadata": {},
   "source": [
    "## Resolucion de Queries"
   ]
  },
  {
   "cell_type": "code",
   "execution_count": 14,
   "id": "dbb1750f",
   "metadata": {},
   "outputs": [],
   "source": [
    "# Primero buscamos filtrar por anio, ya que es un filtro que utilizan mas de una Query\n",
    "\n",
    "def filter_by_year(year_min, year_max, df):\n",
    "    df_filtered = df[df[\"release_date\"].dt.year >= year_min]\n",
    "    if year_max > year_min:\n",
    "        df_filtered = df_filtered[df_filtered[\"release_date\"].dt.year < year_max]\n",
    "\n",
    "    return df_filtered\n"
   ]
  },
  {
   "cell_type": "code",
   "execution_count": 15,
   "id": "c5500a43",
   "metadata": {},
   "outputs": [],
   "source": [
    "# Filtar por Pais\n",
    "def filter_by_country(countries, df):\n",
    "    df_filtered = df[df[\"production_countries\"].apply(\n",
    "        lambda x: all(country.lower() in str(x).lower() for country in countries)\n",
    "    )]\n",
    "    \n",
    "    return df_filtered"
   ]
  },
  {
   "cell_type": "markdown",
   "id": "9ed952cc",
   "metadata": {},
   "source": [
    "#### Resolucion Query1: Peliculas y sus géneros de los años 00' con producción Argentina y Española"
   ]
  },
  {
   "cell_type": "code",
   "execution_count": 16,
   "id": "d4d08576",
   "metadata": {},
   "outputs": [
    {
     "data": {
      "text/plain": [
       "(24, 2)"
      ]
     },
     "execution_count": 16,
     "metadata": {},
     "output_type": "execute_result"
    }
   ],
   "source": [
    "# aplicando los filtros\n",
    "movies_2000s_df = filter_by_year(2000, 2010, movies_df)\n",
    "countries = [\"Argentina\", \"Spain\"]\n",
    "movies_and_genres_2000_Arg_Esp = filter_by_country(countries, movies_2000s_df)\n",
    "q1_df = movies_and_genres_2000_Arg_Esp.dropna(subset=[\"title\", \"genres\"])[[\"title\", \"genres\"]].copy()\n",
    "q1_df.shape"
   ]
  },
  {
   "cell_type": "code",
   "execution_count": 17,
   "id": "4e39f0dd",
   "metadata": {},
   "outputs": [
    {
     "data": {
      "text/html": [
       "<div>\n",
       "<style scoped>\n",
       "    .dataframe tbody tr th:only-of-type {\n",
       "        vertical-align: middle;\n",
       "    }\n",
       "\n",
       "    .dataframe tbody tr th {\n",
       "        vertical-align: top;\n",
       "    }\n",
       "\n",
       "    .dataframe thead th {\n",
       "        text-align: right;\n",
       "    }\n",
       "</style>\n",
       "<table border=\"1\" class=\"dataframe\">\n",
       "  <thead>\n",
       "    <tr style=\"text-align: right;\">\n",
       "      <th></th>\n",
       "      <th>title</th>\n",
       "      <th>genres</th>\n",
       "    </tr>\n",
       "  </thead>\n",
       "  <tbody>\n",
       "    <tr>\n",
       "      <th>4672</th>\n",
       "      <td>La Cienaga</td>\n",
       "      <td>['Comedy', 'Drama']</td>\n",
       "    </tr>\n",
       "    <tr>\n",
       "      <th>4716</th>\n",
       "      <td>Burnt Money</td>\n",
       "      <td>['Crime']</td>\n",
       "    </tr>\n",
       "    <tr>\n",
       "      <th>7941</th>\n",
       "      <td>The City of No Limits</td>\n",
       "      <td>['Thriller', 'Drama']</td>\n",
       "    </tr>\n",
       "    <tr>\n",
       "      <th>9353</th>\n",
       "      <td>Nicotina</td>\n",
       "      <td>['Drama', 'Action', 'Comedy', 'Thriller']</td>\n",
       "    </tr>\n",
       "    <tr>\n",
       "      <th>9404</th>\n",
       "      <td>Lost Embrace</td>\n",
       "      <td>['Drama', 'Foreign']</td>\n",
       "    </tr>\n",
       "    <tr>\n",
       "      <th>9919</th>\n",
       "      <td>Whisky</td>\n",
       "      <td>['Comedy', 'Drama', 'Foreign']</td>\n",
       "    </tr>\n",
       "    <tr>\n",
       "      <th>10290</th>\n",
       "      <td>The Holy Girl</td>\n",
       "      <td>['Drama', 'Foreign']</td>\n",
       "    </tr>\n",
       "    <tr>\n",
       "      <th>10602</th>\n",
       "      <td>The Aura</td>\n",
       "      <td>['Crime', 'Drama', 'Thriller']</td>\n",
       "    </tr>\n",
       "    <tr>\n",
       "      <th>10702</th>\n",
       "      <td>Bombón: The Dog</td>\n",
       "      <td>['Drama']</td>\n",
       "    </tr>\n",
       "    <tr>\n",
       "      <th>11467</th>\n",
       "      <td>Rolling Family</td>\n",
       "      <td>['Drama', 'Comedy']</td>\n",
       "    </tr>\n",
       "    <tr>\n",
       "      <th>12393</th>\n",
       "      <td>The Method</td>\n",
       "      <td>['Drama', 'Thriller']</td>\n",
       "    </tr>\n",
       "    <tr>\n",
       "      <th>13048</th>\n",
       "      <td>Every Stewardess Goes to Heaven</td>\n",
       "      <td>['Drama', 'Romance', 'Foreign']</td>\n",
       "    </tr>\n",
       "    <tr>\n",
       "      <th>13993</th>\n",
       "      <td>Tetro</td>\n",
       "      <td>['Drama', 'Mystery']</td>\n",
       "    </tr>\n",
       "    <tr>\n",
       "      <th>14059</th>\n",
       "      <td>The Secret in Their Eyes</td>\n",
       "      <td>['Crime', 'Drama', 'Mystery', 'Romance']</td>\n",
       "    </tr>\n",
       "    <tr>\n",
       "      <th>14605</th>\n",
       "      <td>Liverpool</td>\n",
       "      <td>['Drama']</td>\n",
       "    </tr>\n",
       "    <tr>\n",
       "      <th>14762</th>\n",
       "      <td>The Headless Woman</td>\n",
       "      <td>['Drama', 'Mystery', 'Thriller']</td>\n",
       "    </tr>\n",
       "    <tr>\n",
       "      <th>16191</th>\n",
       "      <td>The Last Summer of La Boyita</td>\n",
       "      <td>['Drama']</td>\n",
       "    </tr>\n",
       "    <tr>\n",
       "      <th>17648</th>\n",
       "      <td>The Appeared</td>\n",
       "      <td>['Horror', 'Thriller', 'Mystery']</td>\n",
       "    </tr>\n",
       "    <tr>\n",
       "      <th>18861</th>\n",
       "      <td>The Fish Child</td>\n",
       "      <td>['Drama', 'Thriller', 'Romance', 'Foreign']</td>\n",
       "    </tr>\n",
       "    <tr>\n",
       "      <th>24366</th>\n",
       "      <td>Cleopatra</td>\n",
       "      <td>['Drama', 'Comedy', 'Foreign']</td>\n",
       "    </tr>\n",
       "    <tr>\n",
       "      <th>26453</th>\n",
       "      <td>Roma</td>\n",
       "      <td>['Drama', 'Foreign']</td>\n",
       "    </tr>\n",
       "    <tr>\n",
       "      <th>31910</th>\n",
       "      <td>Conversations with Mother</td>\n",
       "      <td>['Comedy', 'Drama', 'Foreign']</td>\n",
       "    </tr>\n",
       "    <tr>\n",
       "      <th>35403</th>\n",
       "      <td>The Education of Fairies</td>\n",
       "      <td>['Drama']</td>\n",
       "    </tr>\n",
       "    <tr>\n",
       "      <th>38625</th>\n",
       "      <td>The Good Life</td>\n",
       "      <td>['Drama']</td>\n",
       "    </tr>\n",
       "  </tbody>\n",
       "</table>\n",
       "</div>"
      ],
      "text/plain": [
       "                                 title  \\\n",
       "4672                        La Cienaga   \n",
       "4716                       Burnt Money   \n",
       "7941             The City of No Limits   \n",
       "9353                          Nicotina   \n",
       "9404                      Lost Embrace   \n",
       "9919                            Whisky   \n",
       "10290                    The Holy Girl   \n",
       "10602                         The Aura   \n",
       "10702                  Bombón: The Dog   \n",
       "11467                   Rolling Family   \n",
       "12393                       The Method   \n",
       "13048  Every Stewardess Goes to Heaven   \n",
       "13993                            Tetro   \n",
       "14059         The Secret in Their Eyes   \n",
       "14605                        Liverpool   \n",
       "14762               The Headless Woman   \n",
       "16191     The Last Summer of La Boyita   \n",
       "17648                     The Appeared   \n",
       "18861                   The Fish Child   \n",
       "24366                        Cleopatra   \n",
       "26453                             Roma   \n",
       "31910        Conversations with Mother   \n",
       "35403         The Education of Fairies   \n",
       "38625                    The Good Life   \n",
       "\n",
       "                                            genres  \n",
       "4672                           ['Comedy', 'Drama']  \n",
       "4716                                     ['Crime']  \n",
       "7941                         ['Thriller', 'Drama']  \n",
       "9353     ['Drama', 'Action', 'Comedy', 'Thriller']  \n",
       "9404                          ['Drama', 'Foreign']  \n",
       "9919                ['Comedy', 'Drama', 'Foreign']  \n",
       "10290                         ['Drama', 'Foreign']  \n",
       "10602               ['Crime', 'Drama', 'Thriller']  \n",
       "10702                                    ['Drama']  \n",
       "11467                          ['Drama', 'Comedy']  \n",
       "12393                        ['Drama', 'Thriller']  \n",
       "13048              ['Drama', 'Romance', 'Foreign']  \n",
       "13993                         ['Drama', 'Mystery']  \n",
       "14059     ['Crime', 'Drama', 'Mystery', 'Romance']  \n",
       "14605                                    ['Drama']  \n",
       "14762             ['Drama', 'Mystery', 'Thriller']  \n",
       "16191                                    ['Drama']  \n",
       "17648            ['Horror', 'Thriller', 'Mystery']  \n",
       "18861  ['Drama', 'Thriller', 'Romance', 'Foreign']  \n",
       "24366               ['Drama', 'Comedy', 'Foreign']  \n",
       "26453                         ['Drama', 'Foreign']  \n",
       "31910               ['Comedy', 'Drama', 'Foreign']  \n",
       "35403                                    ['Drama']  \n",
       "38625                                    ['Drama']  "
      ]
     },
     "execution_count": 17,
     "metadata": {},
     "output_type": "execute_result"
    }
   ],
   "source": [
    "\n",
    "q1_df"
   ]
  },
  {
   "cell_type": "code",
   "execution_count": 18,
   "id": "e2ac0fa2",
   "metadata": {},
   "outputs": [],
   "source": [
    "#q1_df.to_csv('output_q1.csv', index=True)"
   ]
  },
  {
   "cell_type": "markdown",
   "id": "e1c727a9",
   "metadata": {},
   "source": [
    "#### Resolucion Query 2: Top 5 de países que más dinero han invertido en producciones sin colaborar con otros paises"
   ]
  },
  {
   "cell_type": "code",
   "execution_count": 19,
   "id": "68063aa3",
   "metadata": {},
   "outputs": [],
   "source": [
    "def solo_country_investements(df):\n",
    "    solo_country_df = df[df['production_countries'].apply(lambda x: len(eval(x)) == 1)].copy()\n",
    "    solo_country_df.loc[:, 'country'] = solo_country_df['production_countries'].apply(lambda x: eval(x)[0])\n",
    "    investment_by_country = solo_country_df.groupby('country')['budget'].sum().sort_values(ascending=False)\n",
    "\n",
    "    return investment_by_country"
   ]
  },
  {
   "cell_type": "code",
   "execution_count": 20,
   "id": "1512cde5",
   "metadata": {},
   "outputs": [
    {
     "name": "stdout",
     "output_type": "stream",
     "text": [
      "country\n",
      "United States of America    120153886644\n",
      "France                        2256831838\n",
      "United Kingdom                1611604610\n",
      "India                         1169682797\n",
      "Japan                          832585873\n",
      "Name: budget, dtype: int64\n"
     ]
    }
   ],
   "source": [
    "# Busco la cantidad de inversiones que hizo cada pais, invirtiendo solo\n",
    "invesments_by_country = solo_country_investements(movies_df)\n",
    "top5_countries = invesments_by_country.head(5)\n",
    "print(top5_countries)\n",
    "#top5_countries.to_csv(\"output_q2.csv\")"
   ]
  },
  {
   "cell_type": "markdown",
   "id": "250e4da7",
   "metadata": {},
   "source": [
    "#### Resolucion Q3: Películas de Producción Argentina estrenadas a partir del 2000, con mayor y con menor promedio de rating."
   ]
  },
  {
   "cell_type": "code",
   "execution_count": 21,
   "id": "772626da",
   "metadata": {},
   "outputs": [],
   "source": [
    "def rating_arg_movies(movies_Arg_2000_onwards_df,ratings_df):\n",
    "    movies_Arg_2000_onwards_df = movies_Arg_2000_onwards_df.astype({'id': int})\n",
    "    ranking_arg_post_2000_df = movies_Arg_2000_onwards_df[[\"id\", \"title\"]].merge(ratings_df,\n",
    "                                                                                left_on=\"id\",\n",
    "                                                                                right_on=\"movieId\")\n",
    "    mean_ranking_arg_post_2000_df = ranking_arg_post_2000_df.groupby([\"id\", \"title\"])['rating'].mean().reset_index()\n",
    "\n",
    "    return mean_ranking_arg_post_2000_df"
   ]
  },
  {
   "cell_type": "code",
   "execution_count": 22,
   "id": "45a2a6dd",
   "metadata": {},
   "outputs": [],
   "source": [
    "movies_Arg_production = filter_by_country([\"Argentina\"], movies_df)\n",
    "movies_Arg_2000_onwards_df = filter_by_year(2000, 0, movies_Arg_production)\n",
    "mean_ranking_arg_post_2000_df = rating_arg_movies(movies_Arg_2000_onwards_df, ratings_df)"
   ]
  },
  {
   "cell_type": "code",
   "execution_count": 23,
   "id": "b5b899a1",
   "metadata": {},
   "outputs": [
    {
     "data": {
      "text/plain": [
       "id                         125619\n",
       "title     The forbidden education\n",
       "rating                        4.0\n",
       "Name: 23, dtype: object"
      ]
     },
     "execution_count": 23,
     "metadata": {},
     "output_type": "execute_result"
    }
   ],
   "source": [
    "#Max\n",
    "mean_ranking_arg_post_2000_df.iloc[mean_ranking_arg_post_2000_df['rating'].idxmax()]"
   ]
  },
  {
   "cell_type": "code",
   "execution_count": 24,
   "id": "da78abf0",
   "metadata": {},
   "outputs": [
    {
     "data": {
      "text/plain": [
       "id               128598\n",
       "title     Left for Dead\n",
       "rating              1.0\n",
       "Name: 27, dtype: object"
      ]
     },
     "execution_count": 24,
     "metadata": {},
     "output_type": "execute_result"
    }
   ],
   "source": [
    "#Min\n",
    "mean_ranking_arg_post_2000_df.iloc[mean_ranking_arg_post_2000_df['rating'].idxmin()]"
   ]
  },
  {
   "cell_type": "markdown",
   "id": "d7798d40",
   "metadata": {},
   "source": [
    "#### Resolucion Q4: Top 10 de actores con mayor participación en películas de producción Argentina con fecha de estreno posterior al 2000"
   ]
  },
  {
   "cell_type": "code",
   "execution_count": 25,
   "id": "90509966",
   "metadata": {},
   "outputs": [],
   "source": [
    "import ast\n",
    "\n",
    "def actors_with_most_participation_Arg(movies_Arg_2000_onwards_df, credits_df):\n",
    "    # merge\n",
    "    actors_in_Arg_movies_2000_df = movies_Arg_2000_onwards_df[[\"id\", \"title\"]].merge(credits_df, on=\"id\")\n",
    "    actors_in_Arg_movies_2000_df[\"cast\"] = actors_in_Arg_movies_2000_df[\"cast\"].apply(ast.literal_eval)\n",
    "    # actors = dict()\n",
    "    # for cast_in_movie in actors_in_Arg_movies_2000_df[\"cast\"]:\n",
    "    #     for actor in cast_in_movie:\n",
    "    #         actors[actor] = actors.get(actor, 0) + 1\n",
    "\n",
    "    # return actors\n",
    "\n",
    "    cast_and_movie_arg_post_2000_df = actors_in_Arg_movies_2000_df.set_index(\"id\")[\"cast\"].apply(pd.Series).stack().reset_index(\"id\", name=\"name\")\n",
    "    cast_per_movie_quantities = cast_and_movie_arg_post_2000_df.groupby([\"name\"]).count().reset_index().rename(columns={\"id\":\"count\"})\n",
    "    return cast_per_movie_quantities\n",
    "\n"
   ]
  },
  {
   "cell_type": "code",
   "execution_count": 26,
   "id": "443a4fbb",
   "metadata": {},
   "outputs": [],
   "source": [
    "# movies_per_actor = actors_with_most_participation_Arg(movies_Arg_2000_onwards_df, credits_df)\n",
    "# sorted_actors = sorted(movies_per_actor.items(), key=lambda x: x[1], reverse=True)"
   ]
  },
  {
   "cell_type": "code",
   "execution_count": 27,
   "id": "66f2532b",
   "metadata": {},
   "outputs": [
    {
     "data": {
      "text/html": [
       "<div>\n",
       "<style scoped>\n",
       "    .dataframe tbody tr th:only-of-type {\n",
       "        vertical-align: middle;\n",
       "    }\n",
       "\n",
       "    .dataframe tbody tr th {\n",
       "        vertical-align: top;\n",
       "    }\n",
       "\n",
       "    .dataframe thead th {\n",
       "        text-align: right;\n",
       "    }\n",
       "</style>\n",
       "<table border=\"1\" class=\"dataframe\">\n",
       "  <thead>\n",
       "    <tr style=\"text-align: right;\">\n",
       "      <th></th>\n",
       "      <th>name</th>\n",
       "      <th>count</th>\n",
       "    </tr>\n",
       "  </thead>\n",
       "  <tbody>\n",
       "    <tr>\n",
       "      <th>1010</th>\n",
       "      <td>Ricardo Darín</td>\n",
       "      <td>17</td>\n",
       "    </tr>\n",
       "    <tr>\n",
       "      <th>47</th>\n",
       "      <td>Alejandro Awada</td>\n",
       "      <td>7</td>\n",
       "    </tr>\n",
       "    <tr>\n",
       "      <th>489</th>\n",
       "      <td>Inés Efron</td>\n",
       "      <td>7</td>\n",
       "    </tr>\n",
       "    <tr>\n",
       "      <th>664</th>\n",
       "      <td>Leonardo Sbaraglia</td>\n",
       "      <td>7</td>\n",
       "    </tr>\n",
       "    <tr>\n",
       "      <th>1125</th>\n",
       "      <td>Valeria Bertuccelli</td>\n",
       "      <td>7</td>\n",
       "    </tr>\n",
       "    <tr>\n",
       "      <th>111</th>\n",
       "      <td>Arturo Goetz</td>\n",
       "      <td>6</td>\n",
       "    </tr>\n",
       "    <tr>\n",
       "      <th>285</th>\n",
       "      <td>Diego Peretti</td>\n",
       "      <td>6</td>\n",
       "    </tr>\n",
       "    <tr>\n",
       "      <th>948</th>\n",
       "      <td>Pablo Echarri</td>\n",
       "      <td>6</td>\n",
       "    </tr>\n",
       "    <tr>\n",
       "      <th>998</th>\n",
       "      <td>Rafael Spregelburd</td>\n",
       "      <td>6</td>\n",
       "    </tr>\n",
       "    <tr>\n",
       "      <th>1033</th>\n",
       "      <td>Rodrigo de la Serna</td>\n",
       "      <td>6</td>\n",
       "    </tr>\n",
       "  </tbody>\n",
       "</table>\n",
       "</div>"
      ],
      "text/plain": [
       "                     name  count\n",
       "1010        Ricardo Darín     17\n",
       "47        Alejandro Awada      7\n",
       "489            Inés Efron      7\n",
       "664    Leonardo Sbaraglia      7\n",
       "1125  Valeria Bertuccelli      7\n",
       "111          Arturo Goetz      6\n",
       "285         Diego Peretti      6\n",
       "948         Pablo Echarri      6\n",
       "998    Rafael Spregelburd      6\n",
       "1033  Rodrigo de la Serna      6"
      ]
     },
     "execution_count": 27,
     "metadata": {},
     "output_type": "execute_result"
    }
   ],
   "source": [
    "cast_per_movie = actors_with_most_participation_Arg(movies_Arg_2000_onwards_df, credits_df)\n",
    "cast_per_movie.nlargest(10, 'count')"
   ]
  },
  {
   "cell_type": "code",
   "execution_count": null,
   "id": "524e5beb",
   "metadata": {},
   "outputs": [],
   "source": [
    "#cast_per_movie.nlargest(10, 'count').to_csv(\"output_q4.csv\")"
   ]
  },
  {
   "cell_type": "markdown",
   "id": "d8fa79f7",
   "metadata": {},
   "source": [
    "#### Resolucion Q5: Average de la tasa ingreso/presupuesto de peliculas con overview de sentimiento positivo vs. sentimiento negativo."
   ]
  },
  {
   "cell_type": "code",
   "execution_count": null,
   "id": "73a06fac",
   "metadata": {},
   "outputs": [
    {
     "data": {
      "text/plain": [
       "(44435, 9)"
      ]
     },
     "execution_count": 29,
     "metadata": {},
     "output_type": "execute_result"
    }
   ],
   "source": [
    "q5_input_df = movies_df.copy()\n",
    "q5_input_df.shape\n"
   ]
  },
  {
   "cell_type": "code",
   "execution_count": 30,
   "id": "e638d823",
   "metadata": {},
   "outputs": [
    {
     "data": {
      "text/plain": [
       "(5370, 9)"
      ]
     },
     "execution_count": 30,
     "metadata": {},
     "output_type": "execute_result"
    }
   ],
   "source": [
    "# Nos quedamos con rows válidas\n",
    "q5_input_df = q5_input_df.loc[q5_input_df['budget'] != 0]\n",
    "q5_input_df = q5_input_df.loc[q5_input_df['revenue'] != 0]\n",
    "q5_input_df.shape"
   ]
  },
  {
   "cell_type": "code",
   "execution_count": 32,
   "id": "d72d868a",
   "metadata": {},
   "outputs": [
    {
     "name": "stderr",
     "output_type": "stream",
     "text": [
      "Device set to use cpu\n"
     ]
    }
   ],
   "source": [
    "# Cargar modelo preentrenado para análisis de sentimiento\n",
    "sentiment_analyzer = pipeline('sentiment-analysis', model='distilbert-base-uncased-finetuned-sst-2-english')"
   ]
  },
  {
   "cell_type": "code",
   "execution_count": 34,
   "id": "bf1401bd",
   "metadata": {},
   "outputs": [
    {
     "name": "stdout",
     "output_type": "stream",
     "text": [
      "Execution time: 366.01 seconds\n"
     ]
    }
   ],
   "source": [
    "start_time = time.time()\n",
    "\n",
    "# Truncate the text to 512 tokens (or approximately 512 characters as a safe limit)\n",
    "q5_input_df['sentiment'] = q5_input_df['overview'].fillna('').apply(\n",
    "\tlambda x: sentiment_analyzer(x[:512])[0]['label']\n",
    ")\n",
    "\n",
    "elapsed_time = time.time() - start_time\n",
    "print(f\"Execution time: {elapsed_time:.2f} seconds\")"
   ]
  },
  {
   "cell_type": "code",
   "execution_count": 44,
   "id": "6460ef36",
   "metadata": {},
   "outputs": [],
   "source": [
    "q5_input_df[\"rate_revenue_budget\"] = q5_input_df[\"revenue\"] / q5_input_df[\"budget\"]"
   ]
  },
  {
   "cell_type": "code",
   "execution_count": 37,
   "id": "cdc0d687",
   "metadata": {},
   "outputs": [
    {
     "data": {
      "text/html": [
       "<div>\n",
       "<style scoped>\n",
       "    .dataframe tbody tr th:only-of-type {\n",
       "        vertical-align: middle;\n",
       "    }\n",
       "\n",
       "    .dataframe tbody tr th {\n",
       "        vertical-align: top;\n",
       "    }\n",
       "\n",
       "    .dataframe thead th {\n",
       "        text-align: right;\n",
       "    }\n",
       "</style>\n",
       "<table border=\"1\" class=\"dataframe\">\n",
       "  <thead>\n",
       "    <tr style=\"text-align: right;\">\n",
       "      <th></th>\n",
       "      <th>id</th>\n",
       "      <th>title</th>\n",
       "      <th>genres</th>\n",
       "      <th>release_date</th>\n",
       "      <th>overview</th>\n",
       "      <th>production_countries</th>\n",
       "      <th>spoken_languages</th>\n",
       "      <th>budget</th>\n",
       "      <th>revenue</th>\n",
       "      <th>sentiment</th>\n",
       "      <th>rate_revenue_budget</th>\n",
       "    </tr>\n",
       "  </thead>\n",
       "  <tbody>\n",
       "    <tr>\n",
       "      <th>35592</th>\n",
       "      <td>351072</td>\n",
       "      <td>Na Maloom Afraad</td>\n",
       "      <td>['Thriller', 'Comedy']</td>\n",
       "      <td>2014-10-06</td>\n",
       "      <td>Na Maloom Afraad is a story of three reckless poor struggling souls, running after their individ...</td>\n",
       "      <td>[]</td>\n",
       "      <td>['اردو']</td>\n",
       "      <td>884130</td>\n",
       "      <td>2259444.0</td>\n",
       "      <td>POSITIVE</td>\n",
       "      <td>2.555556</td>\n",
       "    </tr>\n",
       "    <tr>\n",
       "      <th>33308</th>\n",
       "      <td>257445</td>\n",
       "      <td>Goosebumps</td>\n",
       "      <td>['Adventure', 'Horror', 'Comedy']</td>\n",
       "      <td>2015-08-05</td>\n",
       "      <td>A teenager teams up with the daughter of young adult horror author R.L. Stine after the writer's...</td>\n",
       "      <td>['Australia', 'United States of America']</td>\n",
       "      <td>['English']</td>\n",
       "      <td>58000000</td>\n",
       "      <td>158162788.0</td>\n",
       "      <td>POSITIVE</td>\n",
       "      <td>2.726945</td>\n",
       "    </tr>\n",
       "    <tr>\n",
       "      <th>11889</th>\n",
       "      <td>675</td>\n",
       "      <td>Harry Potter and the Order of the Phoenix</td>\n",
       "      <td>['Adventure', 'Fantasy', 'Family', 'Mystery']</td>\n",
       "      <td>2007-06-28</td>\n",
       "      <td>Returning for his fifth year of study at Hogwarts, Harry is stunned to find that his warnings ab...</td>\n",
       "      <td>['United Kingdom', 'United States of America']</td>\n",
       "      <td>['English']</td>\n",
       "      <td>150000000</td>\n",
       "      <td>938212738.0</td>\n",
       "      <td>POSITIVE</td>\n",
       "      <td>6.254752</td>\n",
       "    </tr>\n",
       "  </tbody>\n",
       "</table>\n",
       "</div>"
      ],
      "text/plain": [
       "           id                                      title  \\\n",
       "35592  351072                           Na Maloom Afraad   \n",
       "33308  257445                                 Goosebumps   \n",
       "11889     675  Harry Potter and the Order of the Phoenix   \n",
       "\n",
       "                                              genres release_date  \\\n",
       "35592                         ['Thriller', 'Comedy']   2014-10-06   \n",
       "33308              ['Adventure', 'Horror', 'Comedy']   2015-08-05   \n",
       "11889  ['Adventure', 'Fantasy', 'Family', 'Mystery']   2007-06-28   \n",
       "\n",
       "                                                                                                  overview  \\\n",
       "35592  Na Maloom Afraad is a story of three reckless poor struggling souls, running after their individ...   \n",
       "33308  A teenager teams up with the daughter of young adult horror author R.L. Stine after the writer's...   \n",
       "11889  Returning for his fifth year of study at Hogwarts, Harry is stunned to find that his warnings ab...   \n",
       "\n",
       "                                 production_countries spoken_languages  \\\n",
       "35592                                              []         ['اردو']   \n",
       "33308       ['Australia', 'United States of America']      ['English']   \n",
       "11889  ['United Kingdom', 'United States of America']      ['English']   \n",
       "\n",
       "          budget      revenue sentiment  rate_revenue_budget  \n",
       "35592     884130    2259444.0  POSITIVE             2.555556  \n",
       "33308   58000000  158162788.0  POSITIVE             2.726945  \n",
       "11889  150000000  938212738.0  POSITIVE             6.254752  "
      ]
     },
     "execution_count": 37,
     "metadata": {},
     "output_type": "execute_result"
    }
   ],
   "source": [
    "q5_input_df.sample(3)"
   ]
  },
  {
   "cell_type": "code",
   "execution_count": 45,
   "id": "0261c0f9",
   "metadata": {},
   "outputs": [
    {
     "name": "stdout",
     "output_type": "stream",
     "text": [
      "sentiment\n",
      "NEGATIVE    5408.329049\n",
      "POSITIVE    5703.695244\n",
      "Name: rate_revenue_budget, dtype: float64\n"
     ]
    }
   ],
   "source": [
    "average_rate_by_sentiment = q5_input_df.groupby(\"sentiment\")[\"rate_revenue_budget\"].mean()\n",
    "print(average_rate_by_sentiment)"
   ]
  }
 ],
 "metadata": {
  "kernelspec": {
   "display_name": "Python 3",
   "language": "python",
   "name": "python3"
  },
  "language_info": {
   "codemirror_mode": {
    "name": "ipython",
    "version": 3
   },
   "file_extension": ".py",
   "mimetype": "text/x-python",
   "name": "python",
   "nbconvert_exporter": "python",
   "pygments_lexer": "ipython3",
   "version": "3.12.3"
  }
 },
 "nbformat": 4,
 "nbformat_minor": 5
}
